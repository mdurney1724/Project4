


# List of parameters
parameters = [
    "HighBP", "HighChol", "CholCheck", "BMI", "Smoker", "Stroke", "HeartDiseaseorAttack", 
    "PhysActivity", "Fruits", "Veggies", "HvyAlcoholConsump", "AnyHealthcare", "NoDocbcCost", 
    "GenHlth", "DiffWalk", "Sex", "Age", "Education", "Income"
]

# Initialize an empty list to store the user's inputs
user_inputs = []

# Loop through each parameter and prompt the user for input
for param in parameters:
    user_input = input(f"Please enter a value for {param}: ")
    # Convert the input to float or integer if necessary, or leave as string if appropriate
    # You might want to customize this depending on the data type of each input
    try:
        user_input = float(user_input) if '.' in user_input else int(user_input)
    except ValueError:
        pass  # If it's neither int nor float, leave it as string
    user_inputs.append(user_input)

# Print the array of inputs
print("User inputs:", user_inputs)


import tensorflow as tf
import numpy as np
from sklearn.preprocessing import StandardScaler  # Or MinMaxScaler if used

# Load the pre-trained model
model = tf.keras.models.load_model('diabetes_prediction_model_r2.h5')

# Example: User inputs collected in the previous step
user_inputs = np.array(user_inputs).reshape(1, -1)  # Reshape the inputs to a 2D array

# Load the scaler (assuming you saved it previously)
scaler = StandardScaler() 

scaler.fit(user_inputs) 

# Apply scaling to the user input
user_inputs_scaled = scaler.transform(user_inputs)

# Make a prediction using the loaded model
prediction = model.predict(user_inputs_scaled)

# Get the predicted class (use argmax for multi-class output)
predicted_class = np.argmax(prediction, axis=1) 

# Print the result with custom messages
if predicted_class[0] == 0:
    print("You are likely diabetes free.")
elif predicted_class[0] == 1:
    print("You are likely pre-diabetic.")
elif predicted_class[0] == 2:
    print("You are likely diabetic.")





