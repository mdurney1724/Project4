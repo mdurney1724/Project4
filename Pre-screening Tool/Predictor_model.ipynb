{
 "cells": [
  {
   "cell_type": "markdown",
   "metadata": {
    "id": "PSV4DxjQl8nD"
   },
   "source": [
    "## Predic the outcome based on the developed model"
   ]
  },
  {
   "cell_type": "code",
   "execution_count": 5,
   "metadata": {},
   "outputs": [
    {
     "name": "stdin",
     "output_type": "stream",
     "text": [
      "Please enter a value for HighBP:  1\n",
      "Please enter a value for HighChol:  1\n",
      "Please enter a value for CholCheck:  1\n",
      "Please enter a value for BMI:  35\n",
      "Please enter a value for Smoker:  1\n",
      "Please enter a value for Stroke:  0\n",
      "Please enter a value for HeartDiseaseorAttack:  0\n",
      "Please enter a value for PhysActivity:  0\n",
      "Please enter a value for Fruits:  1\n",
      "Please enter a value for Veggies:  0\n",
      "Please enter a value for HvyAlcoholConsump:  1\n",
      "Please enter a value for AnyHealthcare:  0\n",
      "Please enter a value for NoDocbcCost:  1\n",
      "Please enter a value for GenHlth:  4\n",
      "Please enter a value for DiffWalk:  0\n",
      "Please enter a value for Sex:  1\n",
      "Please enter a value for Age:  5\n",
      "Please enter a value for Education:  4\n",
      "Please enter a value for Income:  5\n"
     ]
    },
    {
     "name": "stdout",
     "output_type": "stream",
     "text": [
      "User inputs: [1, 1, 1, 35, 1, 0, 0, 0, 1, 0, 1, 0, 1, 4, 0, 1, 5, 4, 5]\n"
     ]
    }
   ],
   "source": [
    "# List of parameters\n",
    "parameters = [\n",
    "    \"HighBP\", \"HighChol\", \"CholCheck\", \"BMI\", \"Smoker\", \"Stroke\", \"HeartDiseaseorAttack\", \n",
    "    \"PhysActivity\", \"Fruits\", \"Veggies\", \"HvyAlcoholConsump\", \"AnyHealthcare\", \"NoDocbcCost\", \n",
    "    \"GenHlth\", \"DiffWalk\", \"Sex\", \"Age\", \"Education\", \"Income\"\n",
    "]\n",
    "\n",
    "# Initialize an empty list to store the user's inputs\n",
    "user_inputs = []\n",
    "\n",
    "# Loop through each parameter and prompt the user for input\n",
    "for param in parameters:\n",
    "    user_input = input(f\"Please enter a value for {param}: \")\n",
    "    # Convert the input to float or integer if necessary, or leave as string if appropriate\n",
    "    # You might want to customize this depending on the data type of each input\n",
    "    try:\n",
    "        user_input = float(user_input) if '.' in user_input else int(user_input)\n",
    "    except ValueError:\n",
    "        pass  # If it's neither int nor float, leave it as string\n",
    "    user_inputs.append(user_input)\n",
    "\n",
    "# Print the array of inputs\n",
    "print(\"User inputs:\", user_inputs)"
   ]
  },
  {
   "cell_type": "code",
   "execution_count": 6,
   "metadata": {},
   "outputs": [
    {
     "name": "stderr",
     "output_type": "stream",
     "text": [
      "WARNING:absl:Compiled the loaded model, but the compiled metrics have yet to be built. `model.compile_metrics` will be empty until you train or evaluate the model.\n"
     ]
    },
    {
     "name": "stdout",
     "output_type": "stream",
     "text": [
      "\u001b[1m1/1\u001b[0m \u001b[32m━━━━━━━━━━━━━━━━━━━━\u001b[0m\u001b[37m\u001b[0m \u001b[1m0s\u001b[0m 49ms/step\n",
      "You are likely diabetes free.\n"
     ]
    }
   ],
   "source": [
    "import tensorflow as tf\n",
    "import numpy as np\n",
    "from sklearn.preprocessing import StandardScaler  # Or MinMaxScaler if used\n",
    "\n",
    "# Load the pre-trained model\n",
    "model = tf.keras.models.load_model('diabetes_prediction_model_r2.h5')\n",
    "\n",
    "# Example: User inputs collected in the previous step\n",
    "user_inputs = np.array(user_inputs).reshape(1, -1)  # Reshape the inputs to a 2D array\n",
    "\n",
    "# Load the scaler (assuming you saved it previously)\n",
    "scaler = StandardScaler() \n",
    "\n",
    "scaler.fit(user_inputs) \n",
    "\n",
    "# Apply scaling to the user input\n",
    "user_inputs_scaled = scaler.transform(user_inputs)\n",
    "\n",
    "# Make a prediction using the loaded model\n",
    "prediction = model.predict(user_inputs_scaled)\n",
    "\n",
    "# Get the predicted class (use argmax for multi-class output)\n",
    "predicted_class = np.argmax(prediction, axis=1) \n",
    "\n",
    "# Print the result with custom messages\n",
    "if predicted_class[0] == 0:\n",
    "    print(\"You are likely diabetes free.\")\n",
    "elif predicted_class[0] == 1:\n",
    "    print(\"You are likely pre-diabetic.\")\n",
    "elif predicted_class[0] == 2:\n",
    "    print(\"You are likely diabetic.\")\n",
    "\n"
   ]
  },
  {
   "cell_type": "code",
   "execution_count": null,
   "metadata": {},
   "outputs": [],
   "source": []
  }
 ],
 "metadata": {
  "colab": {
   "provenance": []
  },
  "kernelspec": {
   "display_name": "Python 3 (ipykernel)",
   "language": "python",
   "name": "python3"
  },
  "language_info": {
   "codemirror_mode": {
    "name": "ipython",
    "version": 3
   },
   "file_extension": ".py",
   "mimetype": "text/x-python",
   "name": "python",
   "nbconvert_exporter": "python",
   "pygments_lexer": "ipython3",
   "version": "3.11.7"
  },
  "vscode": {
   "interpreter": {
    "hash": "31f2aee4e71d21fbe5cf8b01ff0e069b9275f58929596ceb00d14d90e3e16cd6"
   }
  }
 },
 "nbformat": 4,
 "nbformat_minor": 4
}
