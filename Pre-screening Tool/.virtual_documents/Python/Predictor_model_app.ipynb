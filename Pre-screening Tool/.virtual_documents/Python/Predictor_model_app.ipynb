


# List of parameters
parameters = [
    "HighBP", "HighChol", "CholCheck", "BMI", "Smoker", "Stroke", "HeartDiseaseorAttack", 
    "PhysActivity", "Fruits", "Veggies", "HvyAlcoholConsump", "AnyHealthcare", "NoDocbcCost", 
    "GenHlth","MentHlth","PhysHlth", "DiffWalk", "Sex", "Age", "Education", "Income"
]

# Initialize an empty list to store the user's inputs
user_inputs = []

# Loop through each parameter and prompt the user for input
for param in parameters:
    user_input = input(f"Please enter a value for {param}: ")
    # Convert the input to float or integer if necessary, or leave as string if appropriate
    # You might want to customize this depending on the data type of each input
    try:
        user_input = float(user_input) if '.' in user_input else int(user_input)
    except ValueError:
        pass  # If it's neither int nor float, leave it as string
    user_inputs.append(user_input)

# Print the array of inputs
print("User inputs:", user_inputs)


import tensorflow as tf
import numpy as np

# Load the pre-trained model
model = tf.keras.models.load_model('diabetes_prediction_model.h5')

# Example: User inputs collected in the previous step
user_inputs = np.array(user_inputs).reshape(1, -1)  # Reshape the inputs to a 2D array

# Make a prediction using the loaded model
prediction = model.predict(user_inputs)

# For binary classification, we can use a threshold 
threshold = 0.3
predicted_class = (prediction > threshold).astype(int)

# Print the result with custom messages
if predicted_class[0][0] == 0:
    print("You are likely not diabetic.")
else:
    print("You may be at risk for diabetes. Please consult with a healthcare professional for further testing.")

# You can also print the probability
print(f"Probability of diabetes: {prediction[0][0]:.2f}")





