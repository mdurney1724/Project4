{
 "cells": [
  {
   "cell_type": "markdown",
   "metadata": {
    "id": "PSV4DxjQl8nD"
   },
   "source": [
    "## Predict the outcome based on the developed model"
   ]
  },
  {
   "cell_type": "code",
   "execution_count": 1,
   "metadata": {},
   "outputs": [
    {
     "name": "stdin",
     "output_type": "stream",
     "text": [
      "Please enter a value for HighBP:  1\n",
      "Please enter a value for HighChol:  1\n",
      "Please enter a value for CholCheck:  1\n",
      "Please enter a value for BMI:  35\n",
      "Please enter a value for Smoker:  1\n",
      "Please enter a value for Stroke:  1\n",
      "Please enter a value for HeartDiseaseorAttack:  1\n",
      "Please enter a value for PhysActivity:  1\n",
      "Please enter a value for Fruits:  0\n",
      "Please enter a value for Veggies:  1\n",
      "Please enter a value for HvyAlcoholConsump:  1\n",
      "Please enter a value for AnyHealthcare:  1\n",
      "Please enter a value for NoDocbcCost:  0\n",
      "Please enter a value for GenHlth:  5\n",
      "Please enter a value for MentHlth:  15\n",
      "Please enter a value for PhysHlth:  15\n",
      "Please enter a value for DiffWalk:  0\n",
      "Please enter a value for Sex:  0\n",
      "Please enter a value for Age:  10\n",
      "Please enter a value for Education:  4\n",
      "Please enter a value for Income:  7\n"
     ]
    },
    {
     "name": "stdout",
     "output_type": "stream",
     "text": [
      "User inputs: [1, 1, 1, 35, 1, 1, 1, 1, 0, 1, 1, 1, 0, 5, 15, 15, 0, 0, 10, 4, 7]\n"
     ]
    }
   ],
   "source": [
    "# List of parameters\n",
    "parameters = [\n",
    "    \"HighBP\", \"HighChol\", \"CholCheck\", \"BMI\", \"Smoker\", \"Stroke\", \"HeartDiseaseorAttack\", \n",
    "    \"PhysActivity\", \"Fruits\", \"Veggies\", \"HvyAlcoholConsump\", \"AnyHealthcare\", \"NoDocbcCost\", \n",
    "    \"GenHlth\",\"MentHlth\",\"PhysHlth\", \"DiffWalk\", \"Sex\", \"Age\", \"Education\", \"Income\"\n",
    "]\n",
    "\n",
    "# Initialize an empty list to store the user's inputs\n",
    "user_inputs = []\n",
    "\n",
    "# Loop through each parameter and prompt the user for input\n",
    "for param in parameters:\n",
    "    user_input = input(f\"Please enter a value for {param}: \")\n",
    "    # Convert the input to float or integer if necessary, or leave as string if appropriate\n",
    "    # You might want to customize this depending on the data type of each input\n",
    "    try:\n",
    "        user_input = float(user_input) if '.' in user_input else int(user_input)\n",
    "    except ValueError:\n",
    "        pass  # If it's neither int nor float, leave it as string\n",
    "    user_inputs.append(user_input)\n",
    "\n",
    "# Print the array of inputs\n",
    "print(\"User inputs:\", user_inputs)"
   ]
  },
  {
   "cell_type": "code",
   "execution_count": 5,
   "metadata": {},
   "outputs": [
    {
     "name": "stderr",
     "output_type": "stream",
     "text": [
      "WARNING:absl:Compiled the loaded model, but the compiled metrics have yet to be built. `model.compile_metrics` will be empty until you train or evaluate the model.\n"
     ]
    },
    {
     "name": "stdout",
     "output_type": "stream",
     "text": [
      "\u001b[1m1/1\u001b[0m \u001b[32m━━━━━━━━━━━━━━━━━━━━\u001b[0m\u001b[37m\u001b[0m \u001b[1m0s\u001b[0m 52ms/step\n",
      "You may be at risk for diabetes. Please consult with a healthcare professional for further testing.\n",
      "Probability of diabetes: 0.47\n"
     ]
    }
   ],
   "source": [
    "import tensorflow as tf\n",
    "import numpy as np\n",
    "\n",
    "# Load the pre-trained model\n",
    "model = tf.keras.models.load_model('diabetes_prediction_model.h5')\n",
    "\n",
    "# Example: User inputs collected in the previous step\n",
    "user_inputs = np.array(user_inputs).reshape(1, -1)  # Reshape the inputs to a 2D array\n",
    "\n",
    "# Make a prediction using the loaded model\n",
    "prediction = model.predict(user_inputs)\n",
    "\n",
    "# For binary classification, we can use a threshold \n",
    "threshold = 0.3\n",
    "predicted_class = (prediction > threshold).astype(int)\n",
    "\n",
    "# Print the result with custom messages\n",
    "if predicted_class[0][0] == 0:\n",
    "    print(\"You are likely not diabetic.\")\n",
    "else:\n",
    "    print(\"You may be at risk for diabetes. Please consult with a healthcare professional for further testing.\")\n",
    "\n",
    "# You can also print the probability\n",
    "print(f\"Probability of diabetes: {prediction[0][0]:.2f}\")\n",
    "\n"
   ]
  },
  {
   "cell_type": "code",
   "execution_count": null,
   "metadata": {},
   "outputs": [],
   "source": []
  }
 ],
 "metadata": {
  "colab": {
   "provenance": []
  },
  "kernelspec": {
   "display_name": "Python 3 (ipykernel)",
   "language": "python",
   "name": "python3"
  },
  "language_info": {
   "codemirror_mode": {
    "name": "ipython",
    "version": 3
   },
   "file_extension": ".py",
   "mimetype": "text/x-python",
   "name": "python",
   "nbconvert_exporter": "python",
   "pygments_lexer": "ipython3",
   "version": "3.11.7"
  },
  "vscode": {
   "interpreter": {
    "hash": "31f2aee4e71d21fbe5cf8b01ff0e069b9275f58929596ceb00d14d90e3e16cd6"
   }
  }
 },
 "nbformat": 4,
 "nbformat_minor": 4
}
